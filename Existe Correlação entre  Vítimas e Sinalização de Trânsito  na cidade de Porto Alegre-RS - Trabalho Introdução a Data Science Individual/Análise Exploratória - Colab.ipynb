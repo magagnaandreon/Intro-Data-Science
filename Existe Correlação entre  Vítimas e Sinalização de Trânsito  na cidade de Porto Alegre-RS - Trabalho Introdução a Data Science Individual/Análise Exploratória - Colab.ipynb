{
  "nbformat": 4,
  "nbformat_minor": 0,
  "metadata": {
    "colab": {
      "private_outputs": true,
      "provenance": []
    },
    "kernelspec": {
      "name": "python3",
      "display_name": "Python 3"
    },
    "language_info": {
      "name": "python"
    }
  },
  "cells": [
    {
      "cell_type": "markdown",
      "source": [
        "# Exploração dos Dados Coletados"
      ],
      "metadata": {
        "id": "_7QcY_68YnH8"
      }
    },
    {
      "cell_type": "markdown",
      "source": [
        "### Aqui abaixo no link está o dicionário de dados.\n",
        "[Dicionário de Dados](https://docs.google.com/spreadsheets/d/1Zgqj_uRK1fG0wJQOHbfJ9MsjBoDjOD-bQyTVb-v7VlQ/edit?usp=sharing)"
      ],
      "metadata": {
        "id": "cMtAxkd5uTdh"
      }
    },
    {
      "cell_type": "code",
      "source": [
        "import numpy as np\n",
        "import pandas as pd\n",
        "import requests\n",
        "import matplotlib.pyplot as plt\n",
        "import seaborn as sns"
      ],
      "metadata": {
        "id": "H6Qi42roWC_a"
      },
      "execution_count": null,
      "outputs": []
    },
    {
      "cell_type": "code",
      "source": [
        "!wget https://dadosabertos.poa.br/dataset/6ee76b32-a6b8-4822-9889-e44135cdd7a5/resource/5cc6b043-84aa-4841-a7d1-643948206c3b/download/websin.csv"
      ],
      "metadata": {
        "id": "OcXaLpIfNEwt"
      },
      "execution_count": null,
      "outputs": []
    },
    {
      "cell_type": "code",
      "source": [
        "!wget https://dadosabertos.poa.br/dataset/ddc7c320-d52a-469f-831a-921b30feb48c/resource/a46aaaca-8cc1-4082-aa78-ce9f859e2df5/download/cat_vitimas.csv"
      ],
      "metadata": {
        "id": "OjbuXwyTcdHh"
      },
      "execution_count": null,
      "outputs": []
    },
    {
      "cell_type": "markdown",
      "source": [
        "# Base de dados websin"
      ],
      "metadata": {
        "id": "kbznzehXkNLv"
      }
    },
    {
      "cell_type": "code",
      "source": [
        "df = pd.read_csv(\"/content/websin.csv\", sep=';', error_bad_lines=False)  # lê o arquivo csv"
      ],
      "metadata": {
        "id": "-dtCiHXNWe2N"
      },
      "execution_count": null,
      "outputs": []
    },
    {
      "cell_type": "code",
      "source": [
        "df.shape    # retorna a quantidade de linhas e colunas"
      ],
      "metadata": {
        "id": "kttK1yZH7dTi"
      },
      "execution_count": null,
      "outputs": []
    },
    {
      "cell_type": "code",
      "source": [
        "df.index"
      ],
      "metadata": {
        "id": "xnLo_URKVnkN"
      },
      "execution_count": null,
      "outputs": []
    },
    {
      "cell_type": "code",
      "source": [
        "df.columns"
      ],
      "metadata": {
        "id": "0L6zNgSynn2c"
      },
      "execution_count": null,
      "outputs": []
    },
    {
      "cell_type": "code",
      "source": [
        "df"
      ],
      "metadata": {
        "id": "ujXUsqFzfDCe"
      },
      "execution_count": null,
      "outputs": []
    },
    {
      "cell_type": "code",
      "source": [
        "import matplotlib.pyplot as plt\n",
        "\n",
        "# Convert 'implantacao' to datetime, invalid parsing will be set as NaT\n",
        "df['implantacao'] = pd.to_datetime(df['implantacao'], errors='coerce')\n",
        "\n",
        "# Create a new column 'ano' with the year of implantacao\n",
        "df['ano'] = df['implantacao'].dt.year\n",
        "\n",
        "# Group by 'ano' and count the number of sinalizacao\n",
        "sinalizacao_por_ano = df.groupby('ano').size()\n",
        "\n",
        "# Convert index to integer\n",
        "sinalizacao_por_ano.index = sinalizacao_por_ano.index.dropna().astype(int)\n",
        "\n",
        "# Create a larger plot\n",
        "plt.figure(figsize=(10, 6))\n",
        "\n",
        "# Create a bar plot\n",
        "sinalizacao_por_ano.plot(kind='bar')\n",
        "\n",
        "# Get current x-axis ticks and labels\n",
        "locs, labels = plt.xticks()\n",
        "\n",
        "# Set new x-axis ticks and labels to display every 5 years\n",
        "plt.xticks(locs[::1], labels[::1])\n",
        "\n",
        "plt.xlabel('Ano')\n",
        "plt.ylabel('Quantidade de Sinalização Instalada')\n",
        "plt.title('Quantidade de Sinalização Instalada por Ano')\n",
        "plt.tight_layout()  # Adjust the layout to make room for the x-axis labels\n",
        "plt.show()"
      ],
      "metadata": {
        "id": "Yla8l6SyWcr3"
      },
      "execution_count": null,
      "outputs": []
    },
    {
      "cell_type": "code",
      "source": [
        "# Agrupa por 'cruzamento_nome' e conta\n",
        "counts = df['cruzamento_nome'].value_counts()\n",
        "\n",
        "# Ordena em ordem decrescente\n",
        "sorted_counts = counts.sort_values(ascending=False)\n",
        "\n",
        "# Exibe os 'cruzamento_nome' com mais instalações\n",
        "sorted_counts"
      ],
      "metadata": {
        "id": "Y8MAy6mA6XX3"
      },
      "execution_count": null,
      "outputs": []
    },
    {
      "cell_type": "code",
      "source": [
        "import matplotlib.pyplot as plt\n",
        "\n",
        "# Agrupa por 'cruzamento_nome' e conta\n",
        "counts = df['cruzamento_nome'].value_counts()\n",
        "\n",
        "# Ordena em ordem decrescente\n",
        "sorted_counts = counts.sort_values(ascending=False)\n",
        "\n",
        "# Seleciona os 10 'cruzamento_nome' mais frequentes\n",
        "top_10_cruzamentos = sorted_counts.head(10)\n",
        "\n",
        "# Cria um gráfico de barras\n",
        "top_10_cruzamentos.plot(kind='bar', figsize=(10, 6))\n",
        "\n",
        "plt.xlabel('Cruzamento')\n",
        "plt.ylabel('Contagem')\n",
        "plt.title('Top 10 Cruzamentos Mais Sinalizados')\n",
        "plt.xticks(rotation=45)\n",
        "plt.tight_layout()\n",
        "plt.show()"
      ],
      "metadata": {
        "id": "B8xdADd9HCms"
      },
      "execution_count": null,
      "outputs": []
    },
    {
      "cell_type": "markdown",
      "source": [
        "# Base de dados vítimas"
      ],
      "metadata": {
        "id": "bD_rfQc8k5-N"
      }
    },
    {
      "cell_type": "code",
      "source": [
        "vit = pd.read_csv(\"/content/cat_vitimas.csv\", sep=';', error_bad_lines=False)  # lê o arquivo csv"
      ],
      "metadata": {
        "id": "7AZucGFvk5-N"
      },
      "execution_count": null,
      "outputs": []
    },
    {
      "cell_type": "code",
      "source": [
        "vit.shape    # retorna a quantidade de linhas e colunas"
      ],
      "metadata": {
        "id": "zCT8c8Mhk5-N"
      },
      "execution_count": null,
      "outputs": []
    },
    {
      "cell_type": "code",
      "source": [
        "vit.index"
      ],
      "metadata": {
        "id": "1mPkGPUqk5-N"
      },
      "execution_count": null,
      "outputs": []
    },
    {
      "cell_type": "code",
      "source": [
        "vit.columns"
      ],
      "metadata": {
        "id": "oyoXeCc8k5-N"
      },
      "execution_count": null,
      "outputs": []
    },
    {
      "cell_type": "code",
      "source": [
        "vit"
      ],
      "metadata": {
        "id": "Y_QPQXgyk5-O"
      },
      "execution_count": null,
      "outputs": []
    },
    {
      "cell_type": "code",
      "source": [
        "vit['sum_vit'] = vit[['auto', 'taxi', 'onibus_urb', 'onibus_met', 'onibus_int', 'caminhao', 'moto', 'carroca', 'bicicleta', 'outro', 'lotacao']].sum(axis=1)"
      ],
      "metadata": {
        "id": "i_CucY7KguPY"
      },
      "execution_count": null,
      "outputs": []
    },
    {
      "cell_type": "code",
      "source": [
        "import pandas as pd\n",
        "\n",
        "# Convert 'data' to datetime format\n",
        "vit['data'] = pd.to_datetime(vit['data'])\n",
        "\n",
        "# Extract year\n",
        "vit['year'] = vit['data'].dt.year\n",
        "\n",
        "# Exclude the year 2202\n",
        "vit = vit[vit['year'] != 2202]\n",
        "\n",
        "# Group by year and sum 'sum_vit'\n",
        "yearly_deaths = vit.groupby('year')['sum_vit'].sum()\n",
        "\n",
        "# Plot\n",
        "plt.figure(figsize=(10, 6))\n",
        "bars = yearly_deaths.plot(kind='bar', color='red')\n",
        "plt.title('Total de Mortes por Ano', fontweight='bold')\n",
        "plt.xlabel('Ano', fontweight='bold')\n",
        "plt.ylabel('Total de Mortes', fontweight='bold')\n",
        "\n",
        "# Add numbers on top of each bar\n",
        "for bar in bars.patches:\n",
        "    bars.annotate(format(bar.get_height(), '.0f'),\n",
        "                   (bar.get_x() + bar.get_width() / 2,\n",
        "                    bar.get_height()), ha='center', va='center',\n",
        "                   size=10, xytext=(0, 8),\n",
        "                   textcoords='offset points')\n",
        "\n",
        "plt.show()"
      ],
      "metadata": {
        "id": "a0JvnTD0g28O"
      },
      "execution_count": null,
      "outputs": []
    }
  ]
}