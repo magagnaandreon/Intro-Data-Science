{
  "nbformat": 4,
  "nbformat_minor": 0,
  "metadata": {
    "colab": {
      "private_outputs": true,
      "provenance": [],
      "toc_visible": true
    },
    "kernelspec": {
      "name": "python3",
      "display_name": "Python 3"
    },
    "language_info": {
      "name": "python"
    }
  },
  "cells": [
    {
      "cell_type": "markdown",
      "source": [
        "#Introdução\n",
        "\n",
        "\n"
      ],
      "metadata": {
        "id": "E7IYsZtEFd4O"
      }
    },
    {
      "cell_type": "markdown",
      "source": [
        "Este projeto visa analisar, em período histórico, e prever a demanda no uso de painéis solares em residências no Brasil. Serão utilizadas bases de dados da ANEEL (Agência Nacional de Energia Elétrica) disponibilizados no seguinte site:\n",
        "\n",
        "https://dadosabertos.aneel.gov.br/organization/agencia-nacional-de-energia-eletrica\n",
        "\n",
        "Através da base \"Relação de empreendimentos de Geração Distribuída\", é possível compreender o cenário atual no país em relação a utilização de energia solar em residências e prever a utilização nos próximos 5 anos."
      ],
      "metadata": {
        "id": "i41EchHzFpvZ"
      }
    },
    {
      "cell_type": "markdown",
      "source": [
        "##Importação de bibliotecas"
      ],
      "metadata": {
        "id": "Kspz8axLG4_I"
      }
    },
    {
      "cell_type": "code",
      "source": [
        "import numpy as np\n",
        "import pandas as pd\n",
        "import requests\n",
        "import matplotlib.pyplot as plt"
      ],
      "metadata": {
        "id": "H6Qi42roWC_a"
      },
      "execution_count": null,
      "outputs": []
    },
    {
      "cell_type": "markdown",
      "source": [
        "#Exploração dos dados coletados\n",
        "\n",
        "Através da base disponibilizada pela ANEEL, validaremos os dados disponíveis para as análises."
      ],
      "metadata": {
        "id": "_7QcY_68YnH8"
      }
    },
    {
      "cell_type": "code",
      "source": [
        "!pip install gdown\n",
        "\n",
        "import gdown\n",
        "\n",
        "url = 'https://drive.google.com/uc?id=1xJ6tMOwwNHWr_0gnt-ybXVAlH7Nya0zS'  # substitua 'your_file_id' pelo ID do seu arquivo\n",
        "output = 'file_path'  # substitua 'file_path' pelo caminho onde você deseja salvar o arquivo\n",
        "gdown.download(url, output, quiet=False)"
      ],
      "metadata": {
        "id": "_-u2aI-GEZ7D"
      },
      "execution_count": null,
      "outputs": []
    },
    {
      "cell_type": "code",
      "source": [
        "from google.colab import drive\n",
        "drive.mount('/content/drive')"
      ],
      "metadata": {
        "id": "VlrdQelecEEW"
      },
      "execution_count": null,
      "outputs": []
    },
    {
      "cell_type": "code",
      "source": [
        "df = pd.read_csv(\"/content/drive/MyDrive/ADM01007 – TÓPICOS ESPECIAIS EM MARKETING II - INTRODUÇÃO A DATA SCIENCE/Trabalho em Grupo/empreendimento-geracao-distribuida.csv\", encoding='latin1', sep=\";\")   # lê o arquivo csv"
      ],
      "metadata": {
        "id": "-dtCiHXNWe2N"
      },
      "execution_count": null,
      "outputs": []
    },
    {
      "cell_type": "code",
      "source": [
        "df.shape    # retorna a quantidade de linhas e colunas"
      ],
      "metadata": {
        "id": "kttK1yZH7dTi"
      },
      "execution_count": null,
      "outputs": []
    },
    {
      "cell_type": "code",
      "source": [
        "df"
      ],
      "metadata": {
        "id": "QFnSUi9Y7AAy"
      },
      "execution_count": null,
      "outputs": []
    },
    {
      "cell_type": "code",
      "source": [
        "df = df[df['SigTipoGeracao'] == 'UFV']    # filtra os dados\n",
        "df = df[df['DscClasseConsumo'] == 'Residencial']    # filtra os dados\n",
        "df = df.fillna('')    # preenche os valores nulos"
      ],
      "metadata": {
        "id": "ujXUsqFzfDCe"
      },
      "execution_count": null,
      "outputs": []
    },
    {
      "cell_type": "code",
      "source": [
        "df.columns"
      ],
      "metadata": {
        "id": "0L6zNgSynn2c"
      },
      "execution_count": null,
      "outputs": []
    },
    {
      "cell_type": "code",
      "source": [
        "# Para manter apenas as colunas que vamos utilizar\n",
        "df = df[['DatGeracaoConjuntoDados','NumCNPJDistribuidora', 'NomAgente', 'CodClasseConsumo', 'codUFibge', 'SigUF', 'CodMunicipioIbge','NomMunicipio', 'NumCPFCNPJ',\n",
        "         'NomeTitularEmpreendimento', 'CodEmpreendimento', 'DthAtualizaCadastralEmpreend', 'SigModalidadeEmpreendimento',\n",
        "       'DscModalidadeHabilitado', 'SigTipoGeracao','DscFonteGeracao', 'DscPorte', 'MdaPotenciaInstaladaKW']]"
      ],
      "metadata": {
        "id": "d9ktq4ICmA4o"
      },
      "execution_count": null,
      "outputs": []
    },
    {
      "cell_type": "code",
      "source": [
        "# Certifique-se de que 'MdaPotenciaInstaladaKW' é numérico\n",
        "df['MdaPotenciaInstaladaKW'] = df['MdaPotenciaInstaladaKW'].astype(str).str.replace(',', '.').astype(float)\n",
        "\n",
        "# Converte a coluna 'DthAtualizaCadastralEmpreend' para datetime se ainda não for\n",
        "df['DthAtualizaCadastralEmpreend'] = pd.to_datetime(df['DthAtualizaCadastralEmpreend'])\n",
        "\n",
        "# Extrai o ano da coluna 'DthAtualizaCadastralEmpreend'\n",
        "df['year'] = df['DthAtualizaCadastralEmpreend'].dt.year\n",
        "\n",
        "# Agrupa por 'year' e calcula a soma de 'MdaPotenciaInstaladaKW'\n",
        "grouped = df.groupby('year')['MdaPotenciaInstaladaKW'].sum()\n",
        "\n",
        "print(grouped)"
      ],
      "metadata": {
        "id": "t93y1gvYhfXe"
      },
      "execution_count": null,
      "outputs": []
    },
    {
      "cell_type": "code",
      "source": [
        "import statsmodels.api as sm\n",
        "\n",
        "# Criar um novo DataFrame com a soma de 'MdaPotenciaInstaladaKW' para cada ano\n",
        "df_grouped = df.groupby('year')['MdaPotenciaInstaladaKW'].sum().reset_index()\n",
        "\n",
        "# Calcular o somatório acumulado da 'MdaPotenciaInstaladaKW' até cada ano\n",
        "df_grouped['MdaPotenciaInstaladaKW_cumsum'] = df_grouped['MdaPotenciaInstaladaKW'].cumsum()\n",
        "\n",
        "# Preparar os dados\n",
        "X = df_grouped[['year', 'MdaPotenciaInstaladaKW_cumsum']]  # Características (ano e somatório acumulado)\n",
        "y = df_grouped['MdaPotenciaInstaladaKW']  # Variável alvo (soma de MdaPotenciaInstaladaKW)\n",
        "\n",
        "# Adicionar uma constante a X\n",
        "X = sm.add_constant(X)\n",
        "\n",
        "# Criar um modelo OLS\n",
        "model = sm.OLS(y, X)\n",
        "\n",
        "# Ajustar o modelo\n",
        "results = model.fit()\n",
        "\n",
        "# Imprimir o resumo das estatísticas do modelo\n",
        "print(results.summary())\n",
        "\n",
        "# Definir os anos futuros para os quais você deseja fazer previsões\n",
        "future_years = [2024, 2025, 2026, 2027]\n",
        "\n",
        "# Calcular o somatório acumulado para os anos futuros\n",
        "future_cumsum = [df_grouped['MdaPotenciaInstaladaKW_cumsum'].iloc[-1] + sum(df_grouped['MdaPotenciaInstaladaKW'].iloc[-(i+1):]) for i in range(len(future_years))]\n",
        "\n",
        "# Adicionar uma constante aos anos futuros e aos somatórios acumulados\n",
        "future_X = sm.add_constant(pd.DataFrame({'year': future_years, 'MdaPotenciaInstaladaKW_cumsum': future_cumsum}))\n",
        "\n",
        "# Fazer previsões para os anos futuros\n",
        "future_preds = results.predict(future_X)\n",
        "\n",
        "# Imprimir as previsões\n",
        "for row, pred in zip(future_X.itertuples(), future_preds):\n",
        "    print(f\"Previsão para o ano {row.year} com {round(row.MdaPotenciaInstaladaKW_cumsum, 2)} de potência instalada acumulada: {round(pred, 2)}\")"
      ],
      "metadata": {
        "id": "CbKvIMVLlapO"
      },
      "execution_count": null,
      "outputs": []
    },
    {
      "cell_type": "markdown",
      "source": [
        "A análise de regressão produz uma série de estatísticas que são usadas para interpretar os resultados. Aqui estão algumas das principais estatísticas e o que elas significam:\n",
        "\n",
        "1. **R-squared**: Este é o coeficiente de determinação. Ele varia de 0 a 1 e representa a proporção da variância na variável dependente que pode ser prevista a partir da(s) variável(is) independente(s). Neste caso, o R-squared é 0.483, o que significa que cerca de 48.3% da variância em 'MdaPotenciaInstaladaKW' pode ser explicada pelo modelo. Isso é moderadamente bom, mas não excelente.\n",
        "\n",
        "2. **F-statistic e Prob (F-statistic)**: O F-statistic é uma medida de quão significativo o ajuste do modelo é. Se o Prob (F-statistic) é menor que 0.05, então o modelo é considerado significativo. Neste caso, o Prob (F-statistic) é 0.0138, o que é menor que 0.05, então o modelo é significativo.\n",
        "\n",
        "3. **coef e P>|t|**: Para cada variável independente, o coeficiente (coef) representa a mudança na variável dependente para uma mudança de uma unidade na variável independente, mantendo todas as outras variáveis constantes. O P>|t| é o p-valor para o teste de hipótese de que o coeficiente é igual a zero (não tem efeito). Se P>|t| é menor que 0.05, então a variável é considerada significativa. Neste caso, tanto 'year' quanto 'MdaPotenciaInstaladaKW_cumsum' têm P>|t| maiores que 0.05, então não são considerados significativos.\n",
        "\n",
        "4. **Durbin-Watson**: Esta é uma estatística de teste que é usada para detectar a presença de autocorrelação (uma relação entre valores separados de uma mesma variável por um intervalo de tempo específico) nos resíduos de uma análise de regressão. Um valor de 2.0 significa que não há autocorrelação detectada. Neste caso, o valor é 1.194, o que pode indicar a presença de autocorrelação.\n",
        "\n",
        "5. **Cond. No.**: Este é o número de condição, que é uma medida de quão sensivelmente a função de saída de um modelo muda em relação a uma pequena mudança na entrada. Um número alto pode indicar problemas de multicolinearidade (quando duas ou mais variáveis independentes estão altamente correlacionadas).\n",
        "\n",
        "Em resumo, embora o modelo como um todo seja significativo, as variáveis individuais não são. Além disso, o R-squared poderia ser maior, e o Durbin-Watson sugere que pode haver autocorrelação nos resíduos. Portanto, você pode querer considerar a possibilidade de modificar o modelo ou usar diferentes variáveis."
      ],
      "metadata": {
        "id": "nZjkUCEY-Cuy"
      }
    },
    {
      "cell_type": "code",
      "source": [
        "df['count'] = 1"
      ],
      "metadata": {
        "id": "O48BLoDQzGE4"
      },
      "execution_count": null,
      "outputs": []
    },
    {
      "cell_type": "code",
      "source": [
        "import statsmodels.api as sm\n",
        "\n",
        "# Criar um novo DataFrame com a soma de 'count' para cada ano\n",
        "df_grouped = df.groupby('year')['count'].sum().reset_index()\n",
        "\n",
        "# Calcular o somatório acumulado da 'count' até cada ano\n",
        "df_grouped['count_cumsum'] = df_grouped['count'].cumsum()\n",
        "\n",
        "# Preparar os dados\n",
        "X = df_grouped[['year', 'count_cumsum']]  # Características (ano e somatório acumulado)\n",
        "y = df_grouped['count']  # Variável alvo (soma de count)\n",
        "\n",
        "# Adicionar uma constante a X\n",
        "X = sm.add_constant(X)\n",
        "\n",
        "# Criar um modelo OLS\n",
        "model = sm.OLS(y, X)\n",
        "\n",
        "# Ajustar o modelo\n",
        "results = model.fit()\n",
        "\n",
        "# Imprimir o resumo das estatísticas do modelo\n",
        "print(results.summary())\n",
        "\n",
        "# Definir os anos futuros para os quais você deseja fazer previsões\n",
        "future_years = [2024, 2025, 2026, 2027]\n",
        "\n",
        "# Calcular o somatório acumulado para os anos futuros\n",
        "future_cumsum = [df_grouped['count_cumsum'].iloc[-1] + sum(df_grouped['count'].iloc[-(i+1):]) for i in range(len(future_years))]\n",
        "\n",
        "# Adicionar uma constante aos anos futuros e aos somatórios acumulados\n",
        "future_X = sm.add_constant(pd.DataFrame({'year': future_years, 'count_cumsum': future_cumsum}))\n",
        "\n",
        "# Fazer previsões para os anos futuros\n",
        "future_preds = results.predict(future_X)\n",
        "\n",
        "# Imprimir as previsões\n",
        "for row, pred in zip(future_X.itertuples(), future_preds):\n",
        "    print(f\"Previsão para o ano {row.year} com {round(row.count_cumsum, 2)} de contagem acumulada: {round(pred, 2)}\")"
      ],
      "metadata": {
        "id": "X6GoX6C9zn4I"
      },
      "execution_count": null,
      "outputs": []
    },
    {
      "cell_type": "markdown",
      "source": [
        "A análise de regressão produz uma série de estatísticas que são usadas para interpretar os resultados. Aqui estão algumas das principais estatísticas e o que elas significam:\n",
        "\n",
        "1. **R-squared**: Este é o coeficiente de determinação. Ele varia de 0 a 1 e representa a proporção da variância na variável dependente que pode ser prevista a partir da(s) variável(is) independente(s). Neste caso, o R-squared é 0.486, o que significa que cerca de 48.6% da variância em 'count' pode ser explicada pelo modelo. Isso é moderadamente bom, mas não excelente.\n",
        "\n",
        "2. **F-statistic e Prob (F-statistic)**: O F-statistic é uma medida de quão significativo o ajuste do modelo é. Se o Prob (F-statistic) é menor que 0.05, então o modelo é considerado significativo. Neste caso, o Prob (F-statistic) é 0.0132, o que é menor que 0.05, então o modelo é significativo.\n",
        "\n",
        "3. **coef e P>|t|**: Para cada variável independente, o coeficiente (coef) representa a mudança na variável dependente para uma mudança de uma unidade na variável independente, mantendo todas as outras variáveis constantes. O P>|t| é o p-valor para o teste de hipótese de que o coeficiente é igual a zero (não tem efeito). Se P>|t| é menor que 0.05, então a variável é considerada significativa. Neste caso, tanto 'year' quanto 'count_cumsum' têm P>|t| maiores que 0.05, então não são considerados significativos.\n",
        "\n",
        "4. **Durbin-Watson**: Esta é uma estatística de teste que é usada para detectar a presença de autocorrelação (uma relação entre valores separados de uma mesma variável por um intervalo de tempo específico) nos resíduos de uma análise de regressão. Um valor de 2.0 significa que não há autocorrelação detectada. Neste caso, o valor é 1.126, o que pode indicar a presença de autocorrelação.\n",
        "\n",
        "5. **Cond. No.**: Este é o número de condição, que é uma medida de quão sensivelmente a função de saída de um modelo muda em relação a uma pequena mudança na entrada. Um número alto pode indicar problemas de multicolinearidade (quando duas ou mais variáveis independentes estão altamente correlacionadas).\n",
        "\n",
        "Em resumo, embora o modelo como um todo seja significativo, as variáveis individuais não são. Além disso, o R-squared poderia ser maior, e o Durbin-Watson sugere que pode haver autocorrelação nos resíduos. Portanto, você pode querer considerar a possibilidade de modificar o modelo ou usar diferentes variáveis.\n"
      ],
      "metadata": {
        "id": "SdPuYCUX-ctp"
      }
    },
    {
      "cell_type": "code",
      "source": [
        "# Converte a coluna 'DthAtualizaCadastralEmpreend' para datetime se ainda não for\n",
        "df['DthAtualizaCadastralEmpreend'] = pd.to_datetime(df['DthAtualizaCadastralEmpreend'])\n",
        "\n",
        "# Extrai o ano da coluna 'DthAtualizaCadastralEmpreend'\n",
        "df['year'] = df['DthAtualizaCadastralEmpreend'].dt.year\n",
        "\n",
        "# Conta o número de atualizações em cada ano\n",
        "updates_per_year = df.groupby('year').size()\n",
        "\n",
        "# Mostra o resultado\n",
        "print(updates_per_year)"
      ],
      "metadata": {
        "id": "a6IQiZb2g_x4"
      },
      "execution_count": null,
      "outputs": []
    },
    {
      "cell_type": "code",
      "source": [
        "import statsmodels.api as sm\n",
        "\n",
        "# Filtrar o DataFrame para considerar apenas os anos acima de 2019\n",
        "df_filtered = df[df['year'] > 2019]\n",
        "\n",
        "# Criar um novo DataFrame com a soma de 'count' para cada ano\n",
        "df_grouped = df_filtered.groupby('year')['count'].sum().reset_index()\n",
        "\n",
        "# Calcular o somatório acumulado da 'count' até cada ano\n",
        "df_grouped['count_cumsum'] = df_grouped['count'].cumsum()\n",
        "\n",
        "# Preparar os dados\n",
        "X = df_grouped[['year', 'count_cumsum']]  # Características (ano e somatório acumulado)\n",
        "y = df_grouped['count']  # Variável alvo (soma de count)\n",
        "\n",
        "# Adicionar uma constante a X\n",
        "X = sm.add_constant(X)\n",
        "\n",
        "# Criar um modelo OLS\n",
        "model = sm.OLS(y, X)\n",
        "\n",
        "# Ajustar o modelo\n",
        "results = model.fit()\n",
        "\n",
        "# Imprimir o resumo das estatísticas do modelo\n",
        "print(results.summary())\n",
        "\n",
        "# Definir os anos futuros para os quais você deseja fazer previsões\n",
        "future_years = [2024, 2025, 2026, 2027]\n",
        "\n",
        "# Calcular o somatório acumulado para os anos futuros\n",
        "future_cumsum = [df_grouped['count_cumsum'].iloc[-1] + sum(df_grouped['count'].iloc[-(i+1):]) for i in range(len(future_years))]\n",
        "\n",
        "# Adicionar uma constante aos anos futuros e aos somatórios acumulados\n",
        "future_X = sm.add_constant(pd.DataFrame({'year': future_years, 'count_cumsum': future_cumsum}))\n",
        "\n",
        "# Fazer previsões para os anos futuros\n",
        "future_preds = results.predict(future_X)\n",
        "\n",
        "# Imprimir as previsões\n",
        "for row, pred in zip(future_X.itertuples(), future_preds):\n",
        "    print(f\"Previsão para o ano {row.year} com {round(row.count_cumsum, 2)} de contagem acumulada: {round(pred, 2)}\")"
      ],
      "metadata": {
        "id": "MVeHGYN__AGP"
      },
      "execution_count": null,
      "outputs": []
    },
    {
      "cell_type": "code",
      "source": [
        "import matplotlib.pyplot as plt\n",
        "\n",
        "# Criar um novo DataFrame com as previsões\n",
        "df_preds = pd.DataFrame({'year': future_years, 'MdaPotenciaInstaladaKW_cumsum': future_cumsum, 'prediction': future_preds})\n",
        "\n",
        "# Concatenar os dados originais com as previsões\n",
        "df_total = pd.concat([df_grouped, df_preds], ignore_index=True)\n",
        "\n",
        "# Plotar os dados originais\n",
        "plt.plot(df_total['year'], df_total['MdaPotenciaInstaladaKW_cumsum'], label='Dados originais')\n",
        "\n",
        "# Plotar as previsões\n",
        "plt.plot(df_total['year'], df_total['prediction'], label='Previsões')\n",
        "\n",
        "# Adicionar um título e rótulos aos eixos\n",
        "plt.title('Previsões de MdaPotenciaInstaladaKW')\n",
        "plt.xlabel('Ano')\n",
        "plt.ylabel('MdaPotenciaInstaladaKW_cumsum')\n",
        "\n",
        "# Adicionar uma legenda\n",
        "plt.legend()\n",
        "\n",
        "# Mostrar o gráfico\n",
        "plt.show()"
      ],
      "metadata": {
        "id": "m7i417DuwyDS"
      },
      "execution_count": null,
      "outputs": []
    },
    {
      "cell_type": "code",
      "source": [
        "import matplotlib.pyplot as plt\n",
        "\n",
        "# Criar um novo DataFrame com as previsões\n",
        "df_preds = pd.DataFrame({'year': future_years, 'MdaPotenciaInstaladaKW_cumsum': future_cumsum, 'prediction': future_preds})\n",
        "\n",
        "# Concatenar os dados originais com as previsões\n",
        "df_total = pd.concat([df_grouped, df_preds], ignore_index=True)\n",
        "\n",
        "# Plotar os dados originais\n",
        "plt.plot(df_total['year'], df_total['MdaPotenciaInstaladaKW_cumsum'], label='Dados originais', marker='o', linestyle='-')\n",
        "\n",
        "# Plotar as previsões\n",
        "plt.plot(df_total['year'], df_total['prediction'], label='Previsões', marker='o', linestyle='--')\n",
        "\n",
        "# Adicionar um título e rótulos aos eixos\n",
        "plt.title('Previsões de MdaPotenciaInstaladaKW Acumulada')\n",
        "plt.xlabel('Ano')\n",
        "plt.ylabel('MdaPotenciaInstaladaKW Acumulada')\n",
        "\n",
        "# Definir os rótulos do eixo x para todos os anos\n",
        "plt.xticks(df_total['year'], rotation=45)\n",
        "\n",
        "# Adicionar uma legenda\n",
        "plt.legend()\n",
        "\n",
        "# Mostrar o gráfico\n",
        "plt.show()"
      ],
      "metadata": {
        "id": "BRQHB05741WV"
      },
      "execution_count": null,
      "outputs": []
    }
  ]
}